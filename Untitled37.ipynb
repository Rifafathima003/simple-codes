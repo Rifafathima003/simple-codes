{
  "nbformat": 4,
  "nbformat_minor": 0,
  "metadata": {
    "colab": {
      "provenance": []
    },
    "kernelspec": {
      "name": "python3",
      "display_name": "Python 3"
    },
    "language_info": {
      "name": "python"
    }
  },
  "cells": [
    {
      "cell_type": "code",
      "execution_count": 2,
      "metadata": {
        "id": "-YeL3hwARxuV"
      },
      "outputs": [],
      "source": [
        "import calendar"
      ]
    },
    {
      "cell_type": "code",
      "source": [
        "year = int(input(\"Enter the year: \"))\n",
        "month = int(input(\"Enter the month: \"))\n",
        "\n",
        "cal=calendar.month(year,month)\n",
        "print(cal)"
      ],
      "metadata": {
        "colab": {
          "base_uri": "https://localhost:8080/"
        },
        "id": "wiYaAgSRSCMs",
        "outputId": "9a24574e-af23-4be5-b478-312b2eeb16b3"
      },
      "execution_count": 5,
      "outputs": [
        {
          "output_type": "stream",
          "name": "stdout",
          "text": [
            "Enter the year: 2025\n",
            "Enter the month: 1\n",
            "    January 2025\n",
            "Mo Tu We Th Fr Sa Su\n",
            "       1  2  3  4  5\n",
            " 6  7  8  9 10 11 12\n",
            "13 14 15 16 17 18 19\n",
            "20 21 22 23 24 25 26\n",
            "27 28 29 30 31\n",
            "\n"
          ]
        }
      ]
    },
    {
      "cell_type": "code",
      "source": [
        "import math"
      ],
      "metadata": {
        "id": "E81z-99iSV5g"
      },
      "execution_count": 6,
      "outputs": []
    },
    {
      "cell_type": "code",
      "source": [
        "a=float(input(\"Enter the value of a: \"))\n",
        "b=float(input(\"Enter the value of b: \"))\n",
        "c=float(input(\"Enter the value of c: \"))\n",
        "\n",
        "discriment=b**2-4*a*c\n",
        "\n",
        "if discriment>0:\n",
        "    root1=(-b+math.sqrt(discriment))/(2*a)\n",
        "    root2=(-b-math.sqrt(discriment))/(2*a)\n",
        "    print(\"The roots are: \",root1,root2)\n",
        "elif discriment==0:\n",
        "    root1=root2=-b/(2*a)\n",
        "    print(\"The roots are: \",root1,root2)\n",
        "else:\n",
        "    real_part=-b/(2*a)\n",
        "    imaginary_part=math.sqrt(-discriment)/(2*a)\n",
        "    print(\"The roots are: \",real_part,\"+\",imaginary_part,\"i\",real_part,\"-\",imaginary_part,\"i\")\n"
      ],
      "metadata": {
        "colab": {
          "base_uri": "https://localhost:8080/"
        },
        "id": "TIcDJQuqS_K5",
        "outputId": "0520d2cf-c270-4919-82c4-b766df885f7a"
      },
      "execution_count": 14,
      "outputs": [
        {
          "output_type": "stream",
          "name": "stdout",
          "text": [
            "Enter the value of a: 9.45\n",
            "Enter the value of b: 6\n",
            "Enter the value of c: 3\n",
            "The roots are:  -0.3174603174603175 + 0.46548819995603746 i -0.3174603174603175 - 0.46548819995603746 i\n"
          ]
        }
      ]
    },
    {
      "cell_type": "code",
      "source": [
        "# Calculate the area of a triangle\n",
        "base = 10\n",
        "height = 5\n",
        "\n",
        "# Store the intermediate result in temp_num\n",
        "temp_num = 0.5 * base * height\n",
        "\n",
        "# Print the area\n",
        "print(\"Area of the triangle:\", temp_num)"
      ],
      "metadata": {
        "colab": {
          "base_uri": "https://localhost:8080/"
        },
        "id": "8RFw5VChTilJ",
        "outputId": "2750e6ad-e9dd-45d3-ca29-d9ec873e97bc"
      },
      "execution_count": 15,
      "outputs": [
        {
          "output_type": "stream",
          "name": "stdout",
          "text": [
            "Area of the triangle: 25.0\n"
          ]
        }
      ]
    },
    {
      "cell_type": "code",
      "source": [
        "def cube_sum_of_first_n_natural_numbers(n):\n",
        "    sum = 0\n",
        "    for i in range(1, n+1):\n",
        "        sum += i**3\n",
        "    return sum\n",
        "\n",
        "n = int(input(\"Enter the value of n: \"))\n",
        "result = cube_sum_of_first_n_natural_numbers(n)\n",
        "print(\"The cube sum of the first\", n, \"natural numbers is:\", result)"
      ],
      "metadata": {
        "colab": {
          "base_uri": "https://localhost:8080/"
        },
        "id": "2sKghpE8WSac",
        "outputId": "16fd9ab2-d16a-4e20-dd02-0c0063136ac6"
      },
      "execution_count": 17,
      "outputs": [
        {
          "output_type": "stream",
          "name": "stdout",
          "text": [
            "Enter the value of n: 5\n",
            "The cube sum of the first 5 natural numbers is: 225\n"
          ]
        }
      ]
    },
    {
      "cell_type": "code",
      "source": [],
      "metadata": {
        "id": "kYHgALTzYU5k"
      },
      "execution_count": null,
      "outputs": []
    }
  ]
}